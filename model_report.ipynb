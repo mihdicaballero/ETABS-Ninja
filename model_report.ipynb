{
 "cells": [
  {
   "attachments": {},
   "cell_type": "markdown",
   "metadata": {},
   "source": [
    "# Building analysis with ETABS"
   ]
  },
  {
   "attachments": {},
   "cell_type": "markdown",
   "metadata": {},
   "source": [
    "## Connect to ETABS"
   ]
  },
  {
   "cell_type": "code",
   "execution_count": 2,
   "metadata": {},
   "outputs": [],
   "source": [
    "from etabs_interface import *\n",
    "# Run this one time and that's it\n",
    "SapModel,EtabsObject = connect_to_etabs()\n",
    "# test_etabs_connection()"
   ]
  },
  {
   "attachments": {},
   "cell_type": "markdown",
   "metadata": {},
   "source": [
    "## Elastic Analysis"
   ]
  },
  {
   "cell_type": "code",
   "execution_count": 46,
   "metadata": {},
   "outputs": [
    {
     "name": "stdout",
     "output_type": "stream",
     "text": [
      "('Story', 'Diaphragm', 'UX', 'UY', 'RZ', 'Point', 'X', 'Y', 'Z')\n",
      "     Story Diaphragm          UX          UY         RZ Point        X    Y  \\\n",
      "0  Story10        D1    0.053684  -1.722E-11          0   857  428.394  432   \n",
      "1  Story10        D1   -7.36E-11     0.58722   0.002081   857  428.394  432   \n",
      "2  Story10        D1    0.040263    0.048181   0.000197   857  428.394  432   \n",
      "3  Story10        D1    0.040263   -0.048181  -0.000197   857  428.394  432   \n",
      "4  Story10        D1  -7.732E-11     0.59539   0.002195   857  428.394  432   \n",
      "\n",
      "      Z  \n",
      "0  1224  \n",
      "1  1224  \n",
      "2  1224  \n",
      "3  1224  \n",
      "4  1224  \n"
     ]
    },
    {
     "ename": "KeyError",
     "evalue": "'Direction'",
     "output_type": "error",
     "traceback": [
      "\u001b[1;31m---------------------------------------------------------------------------\u001b[0m",
      "\u001b[1;31mKeyError\u001b[0m                                  Traceback (most recent call last)",
      "\u001b[1;32mc:\\Users\\Equipo 32\\Documents\\MEGAsync\\Programas\\Etabs\\Python\\model_report.ipynb Cell 5\u001b[0m in \u001b[0;36m<cell line: 34>\u001b[1;34m()\u001b[0m\n\u001b[0;32m     <a href='vscode-notebook-cell:/c%3A/Users/Equipo%2032/Documents/MEGAsync/Programas/Etabs/Python/model_report.ipynb#W4sZmlsZQ%3D%3D?line=30'>31</a>\u001b[0m exit(\u001b[39m0\u001b[39m)\n\u001b[0;32m     <a href='vscode-notebook-cell:/c%3A/Users/Equipo%2032/Documents/MEGAsync/Programas/Etabs/Python/model_report.ipynb#W4sZmlsZQ%3D%3D?line=32'>33</a>\u001b[0m \u001b[39m# Group the DataFrame by 'Story' and calculate the minimum and maximum values of 'Drift'\u001b[39;00m\n\u001b[1;32m---> <a href='vscode-notebook-cell:/c%3A/Users/Equipo%2032/Documents/MEGAsync/Programas/Etabs/Python/model_report.ipynb#W4sZmlsZQ%3D%3D?line=33'>34</a>\u001b[0m df \u001b[39m=\u001b[39m df\u001b[39m.\u001b[39;49mgroupby([\u001b[39m'\u001b[39;49m\u001b[39mStory\u001b[39;49m\u001b[39m'\u001b[39;49m,\u001b[39m'\u001b[39;49m\u001b[39mDirection\u001b[39;49m\u001b[39m'\u001b[39;49m])[[\u001b[39m'\u001b[39m\u001b[39mDrift\u001b[39m\u001b[39m'\u001b[39m]]\u001b[39m.\u001b[39magg([\u001b[39m'\u001b[39m\u001b[39mmax\u001b[39m\u001b[39m'\u001b[39m])\n\u001b[0;32m     <a href='vscode-notebook-cell:/c%3A/Users/Equipo%2032/Documents/MEGAsync/Programas/Etabs/Python/model_report.ipynb#W4sZmlsZQ%3D%3D?line=35'>36</a>\u001b[0m \u001b[39m# Flatten the column names by joining them with an underscore\u001b[39;00m\n\u001b[0;32m     <a href='vscode-notebook-cell:/c%3A/Users/Equipo%2032/Documents/MEGAsync/Programas/Etabs/Python/model_report.ipynb#W4sZmlsZQ%3D%3D?line=36'>37</a>\u001b[0m df\u001b[39m.\u001b[39mcolumns \u001b[39m=\u001b[39m [\u001b[39m'\u001b[39m\u001b[39m_\u001b[39m\u001b[39m'\u001b[39m\u001b[39m.\u001b[39mjoin(col)\u001b[39m.\u001b[39mstrip() \u001b[39mfor\u001b[39;00m col \u001b[39min\u001b[39;00m df\u001b[39m.\u001b[39mcolumns\u001b[39m.\u001b[39mvalues]\n",
      "File \u001b[1;32mc:\\Users\\Equipo 32\\anaconda3\\envs\\Python\\lib\\site-packages\\pandas\\core\\frame.py:8402\u001b[0m, in \u001b[0;36mDataFrame.groupby\u001b[1;34m(self, by, axis, level, as_index, sort, group_keys, squeeze, observed, dropna)\u001b[0m\n\u001b[0;32m   8399\u001b[0m     \u001b[39mraise\u001b[39;00m \u001b[39mTypeError\u001b[39;00m(\u001b[39m\"\u001b[39m\u001b[39mYou have to supply one of \u001b[39m\u001b[39m'\u001b[39m\u001b[39mby\u001b[39m\u001b[39m'\u001b[39m\u001b[39m and \u001b[39m\u001b[39m'\u001b[39m\u001b[39mlevel\u001b[39m\u001b[39m'\u001b[39m\u001b[39m\"\u001b[39m)\n\u001b[0;32m   8400\u001b[0m axis \u001b[39m=\u001b[39m \u001b[39mself\u001b[39m\u001b[39m.\u001b[39m_get_axis_number(axis)\n\u001b[1;32m-> 8402\u001b[0m \u001b[39mreturn\u001b[39;00m DataFrameGroupBy(\n\u001b[0;32m   8403\u001b[0m     obj\u001b[39m=\u001b[39;49m\u001b[39mself\u001b[39;49m,\n\u001b[0;32m   8404\u001b[0m     keys\u001b[39m=\u001b[39;49mby,\n\u001b[0;32m   8405\u001b[0m     axis\u001b[39m=\u001b[39;49maxis,\n\u001b[0;32m   8406\u001b[0m     level\u001b[39m=\u001b[39;49mlevel,\n\u001b[0;32m   8407\u001b[0m     as_index\u001b[39m=\u001b[39;49mas_index,\n\u001b[0;32m   8408\u001b[0m     sort\u001b[39m=\u001b[39;49msort,\n\u001b[0;32m   8409\u001b[0m     group_keys\u001b[39m=\u001b[39;49mgroup_keys,\n\u001b[0;32m   8410\u001b[0m     squeeze\u001b[39m=\u001b[39;49msqueeze,\n\u001b[0;32m   8411\u001b[0m     observed\u001b[39m=\u001b[39;49mobserved,\n\u001b[0;32m   8412\u001b[0m     dropna\u001b[39m=\u001b[39;49mdropna,\n\u001b[0;32m   8413\u001b[0m )\n",
      "File \u001b[1;32mc:\\Users\\Equipo 32\\anaconda3\\envs\\Python\\lib\\site-packages\\pandas\\core\\groupby\\groupby.py:965\u001b[0m, in \u001b[0;36mGroupBy.__init__\u001b[1;34m(self, obj, keys, axis, level, grouper, exclusions, selection, as_index, sort, group_keys, squeeze, observed, mutated, dropna)\u001b[0m\n\u001b[0;32m    962\u001b[0m \u001b[39mif\u001b[39;00m grouper \u001b[39mis\u001b[39;00m \u001b[39mNone\u001b[39;00m:\n\u001b[0;32m    963\u001b[0m     \u001b[39mfrom\u001b[39;00m \u001b[39mpandas\u001b[39;00m\u001b[39m.\u001b[39;00m\u001b[39mcore\u001b[39;00m\u001b[39m.\u001b[39;00m\u001b[39mgroupby\u001b[39;00m\u001b[39m.\u001b[39;00m\u001b[39mgrouper\u001b[39;00m \u001b[39mimport\u001b[39;00m get_grouper\n\u001b[1;32m--> 965\u001b[0m     grouper, exclusions, obj \u001b[39m=\u001b[39m get_grouper(\n\u001b[0;32m    966\u001b[0m         obj,\n\u001b[0;32m    967\u001b[0m         keys,\n\u001b[0;32m    968\u001b[0m         axis\u001b[39m=\u001b[39;49maxis,\n\u001b[0;32m    969\u001b[0m         level\u001b[39m=\u001b[39;49mlevel,\n\u001b[0;32m    970\u001b[0m         sort\u001b[39m=\u001b[39;49msort,\n\u001b[0;32m    971\u001b[0m         observed\u001b[39m=\u001b[39;49mobserved,\n\u001b[0;32m    972\u001b[0m         mutated\u001b[39m=\u001b[39;49m\u001b[39mself\u001b[39;49m\u001b[39m.\u001b[39;49mmutated,\n\u001b[0;32m    973\u001b[0m         dropna\u001b[39m=\u001b[39;49m\u001b[39mself\u001b[39;49m\u001b[39m.\u001b[39;49mdropna,\n\u001b[0;32m    974\u001b[0m     )\n\u001b[0;32m    976\u001b[0m \u001b[39mself\u001b[39m\u001b[39m.\u001b[39mobj \u001b[39m=\u001b[39m obj\n\u001b[0;32m    977\u001b[0m \u001b[39mself\u001b[39m\u001b[39m.\u001b[39maxis \u001b[39m=\u001b[39m obj\u001b[39m.\u001b[39m_get_axis_number(axis)\n",
      "File \u001b[1;32mc:\\Users\\Equipo 32\\anaconda3\\envs\\Python\\lib\\site-packages\\pandas\\core\\groupby\\grouper.py:888\u001b[0m, in \u001b[0;36mget_grouper\u001b[1;34m(obj, key, axis, level, sort, observed, mutated, validate, dropna)\u001b[0m\n\u001b[0;32m    886\u001b[0m         in_axis, level, gpr \u001b[39m=\u001b[39m \u001b[39mFalse\u001b[39;00m, gpr, \u001b[39mNone\u001b[39;00m\n\u001b[0;32m    887\u001b[0m     \u001b[39melse\u001b[39;00m:\n\u001b[1;32m--> 888\u001b[0m         \u001b[39mraise\u001b[39;00m \u001b[39mKeyError\u001b[39;00m(gpr)\n\u001b[0;32m    889\u001b[0m \u001b[39melif\u001b[39;00m \u001b[39misinstance\u001b[39m(gpr, Grouper) \u001b[39mand\u001b[39;00m gpr\u001b[39m.\u001b[39mkey \u001b[39mis\u001b[39;00m \u001b[39mnot\u001b[39;00m \u001b[39mNone\u001b[39;00m:\n\u001b[0;32m    890\u001b[0m     \u001b[39m# Add key to exclusions\u001b[39;00m\n\u001b[0;32m    891\u001b[0m     exclusions\u001b[39m.\u001b[39madd(gpr\u001b[39m.\u001b[39mkey)\n",
      "\u001b[1;31mKeyError\u001b[0m: 'Direction'"
     ]
    },
    {
     "ename": "",
     "evalue": "",
     "output_type": "error",
     "traceback": [
      "\u001b[1;31mThe Kernel crashed while executing code in the the current cell or a previous cell. Please review the code in the cell(s) to identify a possible cause of the failure. Click <a href='https://aka.ms/vscodeJupyterKernelCrash'>here</a> for more info. View Jupyter <a href='command:jupyter.viewOutput'>log</a> for further details."
     ]
    }
   ],
   "source": [
    "from etabs_set_functions import *\n",
    "import importlib\n",
    "imported_module = importlib.import_module(\"etabs_get_functions\")\n",
    "importlib.reload(imported_module)\n",
    "from etabs_get_functions import *\n",
    "\n",
    "story_data = get_story_data(SapModel)\n",
    "# frames = get_all_frames(SapModel)\n",
    "# points = get_all_points(SapModel, inc_restraint=False)\n",
    "LoadCaseList = [\"W Service\"]\n",
    "# story_drifts = get_StoryDriftsForStories(SapModel,LoadCaseList,0.0025)\n",
    "# story_drifts = get_StoryDriftsForJoints(SapModel,LoadCaseList,\"Nodos\",0.0025)\n",
    "# print(SapModel.DatabaseTables.GetAvailableTables())\n",
    "\n",
    "#Get the data using API\n",
    "SapModel.DatabaseTables.SetLoadCasesSelectedForDisplay(LoadCaseList)\n",
    "TableFields = SapModel.DatabaseTables.GetAllFieldsInTable('Diaphragm Center Of Mass Displacements')[3]\n",
    "CMDisplacements = SapModel.DatabaseTables.GetTableForDisplayArray('Diaphragm Center Of Mass Displacements', TableFields, \"All\")[4]\n",
    "TableFieldsIncluded = SapModel.DatabaseTables.GetTableForDisplayArray('Diaphragm Center Of Mass Displacements', TableFields, \"All\")[2]\n",
    "print(TableFieldsIncluded)\n",
    "# Determine the number of columns\n",
    "NumColumns = len(TableFieldsIncluded)\n",
    "\n",
    "# Reshape the JointDrifts list into a 2D array with the appropriate dimensions\n",
    "CMDisplacements_array = [CMDisplacements[i:i+NumColumns] for i in range(0, len(CMDisplacements), NumColumns)]\n",
    "# Create the DataFrame using the reshaped array and the column names\n",
    "df = pd.DataFrame(CMDisplacements_array, columns=TableFieldsIncluded)\n",
    "print(df.head())\n",
    "# Convert 'UX' and 'UY column to float\n",
    "df[['UX','UY']] = df[['UX','UY']].astype(float)\n",
    "exit(0)\n",
    "\n",
    "# Group the DataFrame by 'Story' and calculate the minimum and maximum values of 'Drift'\n",
    "df = df.groupby(['Story','Direction'])[['Drift']].agg(['max'])\n",
    "\n",
    "# Flatten the column names by joining them with an underscore\n",
    "df.columns = ['_'.join(col).strip() for col in df.columns.values]\n",
    "\n",
    "# Reset the index to make 'Story' a regular column\n",
    "df.reset_index(inplace=True)\n",
    "\n",
    "# Pivot the DataFrame to create separate columns for 'DriftX' and 'DriftY' values\n",
    "df = df.pivot(index='Story', columns='Direction', values='Drift_max').reset_index()\n",
    "\n",
    "# Rename the columns\n",
    "df.columns = ['Story', 'DriftX_max', 'DriftY_max']\n",
    "\n",
    "# Sort the DataFrame by 'Story' column in alphabetical order\n",
    "df = df.sort_values('Story', ascending=True)"
   ]
  }
 ],
 "metadata": {
  "kernelspec": {
   "display_name": "Python",
   "language": "python",
   "name": "python3"
  },
  "language_info": {
   "codemirror_mode": {
    "name": "ipython",
    "version": 3
   },
   "file_extension": ".py",
   "mimetype": "text/x-python",
   "name": "python",
   "nbconvert_exporter": "python",
   "pygments_lexer": "ipython3",
   "version": "3.10.4"
  },
  "orig_nbformat": 4
 },
 "nbformat": 4,
 "nbformat_minor": 2
}
