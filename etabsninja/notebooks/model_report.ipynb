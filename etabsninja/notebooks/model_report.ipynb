{
 "cells": [
  {
   "attachments": {},
   "cell_type": "markdown",
   "metadata": {},
   "source": [
    "# Building analysis with ETABS"
   ]
  },
  {
   "attachments": {},
   "cell_type": "markdown",
   "metadata": {},
   "source": [
    "## Connect to ETABS"
   ]
  },
  {
   "cell_type": "code",
   "execution_count": 4,
   "metadata": {},
   "outputs": [
    {
     "name": "stdout",
     "output_type": "stream",
     "text": [
      "ETABS connection test successful\n"
     ]
    }
   ],
   "source": [
    "import sys\n",
    "import os\n",
    "# Get the current working directory\n",
    "current_folder = os.getcwd()\n",
    "# Go up two directories\n",
    "parent_folder = os.path.dirname(os.path.dirname(current_folder))\n",
    "# Append the parent folder to the system path (for .ipynb files)\n",
    "sys.path.append(parent_folder)\n",
    "from etabsninja.interface import connect_to_etabs, test_etabs_connection\n",
    "# Run this one time and that's it\n",
    "SapModel,EtabsObject = connect_to_etabs()\n",
    "test_etabs_connection()"
   ]
  },
  {
   "attachments": {},
   "cell_type": "markdown",
   "metadata": {},
   "source": [
    "## Elastic Analysis"
   ]
  },
  {
   "cell_type": "code",
   "execution_count": 9,
   "metadata": {},
   "outputs": [
    {
     "name": "stderr",
     "output_type": "stream",
     "text": [
      "ic| max_InterstoryDrift: 0.0025\n"
     ]
    }
   ],
   "source": [
    "import importlib\n",
    "imported_module = importlib.import_module(\"etabsninja.get_functions\")\n",
    "importlib.reload(imported_module)\n",
    "from etabsninja.get_functions import *\n",
    "from etabsninja.settings import Settings\n",
    "from icecream import ic # For better debugging\n",
    "\n",
    "class Results:\n",
    "    \"\"\"Overall class to manage etabs model results.\"\"\"\n",
    "\n",
    "    def __init__(self):\n",
    "        \"\"\"Initialize the results.\"\"\"\n",
    "        self.settings = Settings()\n",
    "        self.LoadCaseList = [\"W Service\"]\n",
    "        self.building_height = 100 # ft\n",
    "        self.JointsGroupName = \"Nodos\"\n",
    "        self.max_BuildingDrift = 1/400\n",
    "        self.max_InterstoryDrift = self.settings.max_InterstoryDrift\n",
    "\n",
    "results = Results()\n",
    "story_data = get_story_data(SapModel)\n",
    "# frames = get_all_frames(SapModel)\n",
    "# points = get_all_points(SapModel, inc_restraint=False)\n",
    "LoadCaseList = [\"W Service\"]\n",
    "building_height = 100 # ft\n",
    "JointsGroupName = \"Nodos\"\n",
    "max_BuildingDrift = 1/400\n",
    "# story_drifts = get_StoryDriftsForStories(SapModel,LoadCaseList,max_InterstoryDrift)\n",
    "# joint_drifts = get_StoryDriftsForJoints(SapModel,LoadCaseList,JointsGroupName,max_InterstoryDrift)\n",
    "# CM_displacement = get_DiaphragmCMDisplacements(SapModel,LoadCaseList,building_height,max_BuildingDrift)"
   ]
  }
 ],
 "metadata": {
  "kernelspec": {
   "display_name": "Python",
   "language": "python",
   "name": "python3"
  },
  "language_info": {
   "codemirror_mode": {
    "name": "ipython",
    "version": 3
   },
   "file_extension": ".py",
   "mimetype": "text/x-python",
   "name": "python",
   "nbconvert_exporter": "python",
   "pygments_lexer": "ipython3",
   "version": "3.10.11"
  },
  "orig_nbformat": 4
 },
 "nbformat": 4,
 "nbformat_minor": 2
}
