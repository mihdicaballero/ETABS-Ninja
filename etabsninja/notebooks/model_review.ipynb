{
 "cells": [
  {
   "attachments": {},
   "cell_type": "markdown",
   "metadata": {},
   "source": [
    "# Building analysis with ETABS"
   ]
  },
  {
   "attachments": {},
   "cell_type": "markdown",
   "metadata": {},
   "source": [
    "## Connect to ETABS"
   ]
  },
  {
   "cell_type": "code",
   "execution_count": 2,
   "metadata": {},
   "outputs": [
    {
     "name": "stdout",
     "output_type": "stream",
     "text": [
      "ETABS connection test successful\n"
     ]
    }
   ],
   "source": [
    "import sys\n",
    "import os\n",
    "# Get the current working directory\n",
    "current_folder = os.getcwd()\n",
    "# Go up two directories\n",
    "parent_folder = os.path.dirname(os.path.dirname(current_folder))\n",
    "# Append the parent folder to the system path (for .ipynb files)\n",
    "sys.path.append(parent_folder)\n",
    "from etabsninja.interface import connect_to_etabs, test_etabs_connection\n",
    "# Run this one time and that's it\n",
    "SapModel,EtabsObject = connect_to_etabs()\n",
    "test_etabs_connection()"
   ]
  },
  {
   "attachments": {},
   "cell_type": "markdown",
   "metadata": {},
   "source": [
    "## Import Database"
   ]
  },
  {
   "cell_type": "code",
   "execution_count": 5,
   "metadata": {},
   "outputs": [],
   "source": [
    "from etabsninja.get_database import DatabaseTables"
   ]
  },
  {
   "cell_type": "markdown",
   "metadata": {},
   "source": [
    "## Mallado y diafragmas"
   ]
  },
  {
   "cell_type": "code",
   "execution_count": 6,
   "metadata": {},
   "outputs": [
    {
     "name": "stdout",
     "output_type": "stream",
     "text": [
      "Cantidad de wall mesh options: ['Auto Rectangular']\n"
     ]
    }
   ],
   "source": [
    "table_name = \"Area Assignments - Wall Auto Mesh Options\"\n",
    "Database =DatabaseTables(SapModel)\n",
    "df=Database.read(table_name,to_dataframe=True)\n",
    "assert df is not None, \"DataFrame should not be None\"\n",
    "unique_mesh_options = df['MeshOption'].unique()\n",
    "print('Cantidad de wall mesh options:', unique_mesh_options)"
   ]
  },
  {
   "cell_type": "code",
   "execution_count": 7,
   "metadata": {},
   "outputs": [
    {
     "name": "stdout",
     "output_type": "stream",
     "text": [
      "Cantidad de floor mesh options: ['Default']\n"
     ]
    }
   ],
   "source": [
    "table_name = \"Area Assignments - Floor Auto Mesh Options\"\n",
    "Database =DatabaseTables(SapModel)\n",
    "df=Database.read(table_name,to_dataframe=True)\n",
    "assert df is not None, \"DataFrame should not be None\"\n",
    "unique_mesh_options = df['MeshOption'].unique()\n",
    "print('Cantidad de floor mesh options:', unique_mesh_options)"
   ]
  },
  {
   "cell_type": "code",
   "execution_count": null,
   "metadata": {},
   "outputs": [],
   "source": [
    "table_name = \"Area Assignments - Diaphragms\"\n",
    "Database =DatabaseTables(SapModel)\n",
    "df=Database.read(table_name,to_dataframe=True)\n",
    "assert df is not None, \"DataFrame should not be None\"\n",
    "summary = df.groupby('Diaphragm').agg({'Story': lambda x: list(x), 'Diaphragm': 'size'}).rename(columns={'Diaphragm': 'Count'})\n",
    "print('Cantidad de diafragmas:\\n', summary)\n",
    "summary.to_excel('T1-Diafragmas.xlsx', index=True)  # Set index=False to exclude the index from the Excel file"
   ]
  },
  {
   "cell_type": "markdown",
   "metadata": {},
   "source": [
    "## Stiffness modifiers"
   ]
  },
  {
   "cell_type": "code",
   "execution_count": null,
   "metadata": {},
   "outputs": [],
   "source": [
    "table_name = \"Area Assignments - Stiffness Modifiers\"\n",
    "Database =DatabaseTables(SapModel)\n",
    "df=Database.read(table_name,to_dataframe=True)\n",
    "assert df is not None, \"DataFrame should not be None\"\n",
    "# Filter rows where 'Label' starts with 'F' and 'W'\n",
    "filtered_df_F = df[df['Label'].str.startswith('F')]\n",
    "filtered_df_W = df[df['Label'].str.startswith('W')]\n",
    "# Group by 'Story' and get unique values of 'f11Mod'\n",
    "summary = filtered_df_F.groupby('Story')[['f11Mod', 'f22Mod', 'f12Mod', 'm11Mod', 'm22Mod', 'm12Mod']].agg(pd.Series.unique)\n",
    "print('Modificadores de rigidez en elementos de losa por piso:\\n', summary)\n",
    "# Get unique values for the entire DataFrame\n",
    "summary_total = filtered_df_F[['f11Mod', 'f22Mod', 'f12Mod', 'm11Mod', 'm22Mod', 'm12Mod']].agg(pd.Series.unique)\n",
    "print('Modificadores de rigidez en elementos de losa en el edificio:\\n',summary_total)\n",
    "summary = filtered_df_W.groupby('Story')[['f11Mod', 'f22Mod', 'f12Mod', 'm11Mod', 'm22Mod', 'm12Mod']].agg(pd.Series.unique)\n",
    "print('Modificadores de rigidez en elementos de muro por piso:\\n', summary)\n",
    "summary_total = filtered_df_W[['f11Mod', 'f22Mod', 'f12Mod', 'm11Mod', 'm22Mod', 'm12Mod']].agg(pd.Series.unique)\n",
    "print('Modificadores de rigidez en elementos de muro en el edificio:\\n',summary_total)\n",
    "summary.to_excel('T1-Muros.xlsx', index=True) \n"
   ]
  },
  {
   "cell_type": "code",
   "execution_count": null,
   "metadata": {},
   "outputs": [],
   "source": [
    "table_name = \"Frame Assignments - Property Modifiers\"\n",
    "Database =DatabaseTables(SapModel)\n",
    "df=Database.read(table_name,to_dataframe=True)\n",
    "assert df is not None, \"DataFrame should not be None\"\n",
    "# Filter rows where 'Label' starts with 'B' and 'C'\n",
    "filtered_df_B = df[df['Label'].str.startswith('B')]\n",
    "filtered_df_C = df[df['Label'].str.startswith('C')]\n",
    "# Group by 'Story' and get unique values of 'f11Mod'\n",
    "summary = filtered_df_B.groupby('Story')[['AMod', 'A2Mod', 'A3Mod', 'JMod', 'I2Mod', 'I3Mod','MMod']].agg(pd.Series.unique)\n",
    "print('Modificadores de rigidez en elementos de viga por piso:\\n', summary)\n",
    "# Get unique values for the entire DataFrame\n",
    "summary_total = filtered_df_B[['AMod', 'A2Mod', 'A3Mod', 'JMod', 'I2Mod', 'I3Mod','MMod']].agg(pd.Series.unique)\n",
    "summary = filtered_df_C.groupby('Story')[['AMod', 'A2Mod', 'A3Mod', 'JMod', 'I2Mod', 'I3Mod','MMod']].agg(pd.Series.unique)\n",
    "summary_total = filtered_df_C[['AMod', 'A2Mod', 'A3Mod', 'JMod', 'I2Mod', 'I3Mod','MMod']].agg(pd.Series.unique)\n",
    "print('Modificadores de rigidez en elementos de viga en el edificio:\\n',summary_total)\n",
    "print('Modificadores de rigidez en elementos de columna por piso:\\n', summary)\n",
    "print('Modificadores de rigidez en elementos de columna en el edificio:\\n',summary_total)"
   ]
  }
 ],
 "metadata": {
  "kernelspec": {
   "display_name": "Python",
   "language": "python",
   "name": "python3"
  },
  "language_info": {
   "codemirror_mode": {
    "name": "ipython",
    "version": 3
   },
   "file_extension": ".py",
   "mimetype": "text/x-python",
   "name": "python",
   "nbconvert_exporter": "python",
   "pygments_lexer": "ipython3",
   "version": "3.10.11"
  },
  "orig_nbformat": 4
 },
 "nbformat": 4,
 "nbformat_minor": 2
}
